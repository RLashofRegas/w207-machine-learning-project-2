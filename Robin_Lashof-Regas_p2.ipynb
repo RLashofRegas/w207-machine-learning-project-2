{
  "nbformat": 4,
  "nbformat_minor": 0,
  "metadata": {
    "colab": {
      "name": "firstname_lastname_p2.ipynb",
      "provenance": [],
      "private_outputs": true,
      "collapsed_sections": []
    },
    "kernelspec": {
      "display_name": "Python 3",
      "language": "python",
      "name": "python3"
    },
    "language_info": {
      "codemirror_mode": {
        "name": "ipython",
        "version": 3
      },
      "file_extension": ".py",
      "mimetype": "text/x-python",
      "name": "python",
      "nbconvert_exporter": "python",
      "pygments_lexer": "ipython3",
      "version": "3.7.1"
    },
    "toc": {
      "base_numbering": 1,
      "nav_menu": {},
      "number_sections": false,
      "sideBar": true,
      "skip_h1_title": true,
      "title_cell": "Table of Contents",
      "title_sidebar": "Contents",
      "toc_cell": false,
      "toc_position": {},
      "toc_section_display": true,
      "toc_window_display": false
    }
  },
  "cells": [
    {
      "cell_type": "markdown",
      "metadata": {
        "colab_type": "text",
        "id": "6t55qCf3Fsxa"
      },
      "source": [
        "# Project 2: Topic Classification"
      ]
    },
    {
      "cell_type": "markdown",
      "metadata": {
        "colab_type": "text",
        "id": "j9-9G8z4Fsxd"
      },
      "source": [
        "In this project, you'll work with text data from newsgroup postings on a variety of topics. You'll train classifiers to distinguish between the topics based on the text of the posts. Whereas with digit classification, the input is relatively dense: a 28x28 matrix of pixels, many of which are non-zero, here we'll represent each document with a \"bag-of-words\" model. As you'll see, this makes the feature representation quite sparse -- only a few words of the total vocabulary are active in any given document. The bag-of-words assumption here is that the label depends only on the words; their order is not important.\n",
        "\n",
        "The SK-learn documentation on feature extraction will prove useful:\n",
        "http://scikit-learn.org/stable/modules/feature_extraction.html\n",
        "\n",
        "Each problem can be addressed succinctly with the included packages -- please don't add any more. Grading will be based on writing clean, commented code, along with a few short answers.\n",
        "\n",
        "As always, you're welcome to work on the project in groups and discuss ideas on the course wall, but please prepare your own write-up and write your own code."
      ]
    },
    {
      "cell_type": "code",
      "metadata": {
        "colab_type": "code",
        "id": "AUYW83LqFsxd",
        "colab": {}
      },
      "source": [
        "# This tells matplotlib not to try opening a new window for each plot.\n",
        "%matplotlib inline\n",
        "\n",
        "# General libraries.\n",
        "import re\n",
        "import numpy as np\n",
        "import matplotlib.pyplot as plt\n",
        "\n",
        "# SK-learn libraries for learning.\n",
        "from sklearn.pipeline import Pipeline\n",
        "from sklearn.neighbors import KNeighborsClassifier\n",
        "from sklearn.linear_model import LogisticRegression\n",
        "from sklearn.naive_bayes import BernoulliNB\n",
        "from sklearn.naive_bayes import MultinomialNB\n",
        "from sklearn.model_selection import GridSearchCV\n",
        "\n",
        "# SK-learn libraries for evaluation.\n",
        "from sklearn.metrics import confusion_matrix\n",
        "from sklearn import metrics\n",
        "from sklearn.metrics import classification_report\n",
        "\n",
        "# SK-learn library for importing the newsgroup data.\n",
        "from sklearn.datasets import fetch_20newsgroups\n",
        "\n",
        "# SK-learn libraries for feature extraction from text.\n",
        "from sklearn.feature_extraction.text import *\n",
        "\n",
        "import nltk\n",
        "\n",
        "#Custom Imports\n",
        "import heapq\n",
        "import pandas as pd\n",
        "from IPython.display import display, HTML\n",
        "from html import unescape\n",
        "from scipy.stats import percentileofscore"
      ],
      "execution_count": 0,
      "outputs": []
    },
    {
      "cell_type": "markdown",
      "metadata": {
        "colab_type": "text",
        "id": "_ALNjGgCFsxg"
      },
      "source": [
        "Load the data, stripping out metadata so that we learn classifiers that only use textual features. By default, newsgroups data is split into train and test sets. We further split the test so we have a dev set. Note that we specify 4 categories to use for this project. If you remove the categories argument from the fetch function, you'll get all 20 categories."
      ]
    },
    {
      "cell_type": "code",
      "metadata": {
        "colab_type": "code",
        "id": "ecYpcoxaFsxh",
        "colab": {}
      },
      "source": [
        "categories = ['alt.atheism', 'talk.religion.misc', 'comp.graphics', 'sci.space']\n",
        "newsgroups_train = fetch_20newsgroups(subset='train',\n",
        "                                      remove=('headers', 'footers', 'quotes'),\n",
        "                                      categories=categories)\n",
        "newsgroups_test = fetch_20newsgroups(subset='test',\n",
        "                                     remove=('headers', 'footers', 'quotes'),\n",
        "                                     categories=categories)\n",
        "\n",
        "num_test = int(len(newsgroups_test.target) / 2)\n",
        "test_data, test_labels = newsgroups_test.data[num_test:], newsgroups_test.target[num_test:]\n",
        "dev_data, dev_labels = newsgroups_test.data[:num_test], newsgroups_test.target[:num_test]\n",
        "train_data, train_labels = newsgroups_train.data, newsgroups_train.target\n",
        "\n",
        "print('training label shape:', train_labels.shape)\n",
        "print('test label shape:', test_labels.shape)\n",
        "print('dev label shape:', dev_labels.shape)\n",
        "print('labels names:', newsgroups_train.target_names)"
      ],
      "execution_count": 0,
      "outputs": []
    },
    {
      "cell_type": "markdown",
      "metadata": {
        "colab_type": "text",
        "id": "OHTnOke6Fsxk"
      },
      "source": [
        "### Part 1:\n",
        "\n",
        "For each of the first 5 training examples, print the text of the message along with the label."
      ]
    },
    {
      "cell_type": "code",
      "metadata": {
        "colab_type": "code",
        "id": "X8zhA06xFsxl",
        "colab": {}
      },
      "source": [
        "def P1(num_examples=5):\n",
        "  for i in range(num_examples):\n",
        "    print(\"---------------------------------------------------------------------------------\")\n",
        "    print(\"Message \" + str(i + 1) + \", Label: \" + newsgroups_train.target_names[train_labels[i]])\n",
        "    print(\"---------------------------------------------------------------------------------\")\n",
        "    print(train_data[i] + \"\\n\\n\")\n",
        "\n",
        "P1()"
      ],
      "execution_count": 0,
      "outputs": []
    },
    {
      "cell_type": "markdown",
      "metadata": {
        "colab_type": "text",
        "id": "onfno6uHFsxm"
      },
      "source": [
        "### Part 2:\n",
        "\n",
        "Use CountVectorizer to turn the raw training text into feature vectors. You should use the fit_transform function, which makes 2 passes through the data: first it computes the vocabulary (\"fit\"), second it converts the raw text into feature vectors using the vocabulary (\"transform\").\n",
        "\n",
        "The vectorizer has a lot of options. To get familiar with some of them, write code to answer these questions:\n",
        "\n",
        "a. The output of the transform (also of fit_transform) is a sparse matrix: http://docs.scipy.org/doc/scipy-0.14.0/reference/generated/scipy.sparse.csr_matrix.html. What is the size of the vocabulary? What is the average number of non-zero features per example? What fraction of the entries in the matrix are non-zero? Hint: use \"nnz\" and \"shape\" attributes.\n",
        "\n",
        "b. What are the 0th and last feature strings (in alphabetical order)? Hint: use the vectorizer's get_feature_names function.\n",
        "\n",
        "c. Specify your own vocabulary with 4 words: [\"atheism\", \"graphics\", \"space\", \"religion\"]. Confirm the training vectors are appropriately shaped. Now what's the average number of non-zero features per example?\n",
        "\n",
        "d. Instead of extracting unigram word features, use \"analyzer\" and \"ngram_range\" to extract bigram and trigram character features. What size vocabulary does this yield?\n",
        "\n",
        "e. Use the \"min_df\" argument to prune words that appear in fewer than 10 documents. What size vocabulary does this yield?\n",
        "\n",
        "f. Using the standard CountVectorizer, what fraction of the words in the dev data are missing from the vocabulary? Hint: build a vocabulary for both train and dev and look at the size of the difference."
      ]
    },
    {
      "cell_type": "code",
      "metadata": {
        "colab_type": "code",
        "id": "LyVwk5RvFsxn",
        "colab": {}
      },
      "source": [
        "def P2():\n",
        "  vectorizer = CountVectorizer()\n",
        "  vectors = vectorizer.fit_transform(train_data)\n",
        "  \n",
        "  # nnz returns number of non-zero entries, shape[0] is number of examples\n",
        "  print(\"Avg Unique Words Per Document: \" + str(float(vectors.nnz) / vectors.shape[0]))\n",
        "  # full matrix is shape[0](# docs)*shape[1](total vocab size)\n",
        "  print(\"Fraction of Non-Zero Matrix Entries: \" + str(float(vectors.nnz) / (vectors.shape[0]*vectors.shape[1])))\n",
        "  \n",
        "  # get_feature_names returns all features in alphabetical order\n",
        "  features = vectorizer.get_feature_names()\n",
        "  print(\"0th Feature: '\" + features[0] + \"'\")\n",
        "  print(\"Last Feature: '\" + features[-1] + \"'\")\n",
        "  \n",
        "  vocab = [\"atheism\", \"graphics\", \"space\", \"religion\"]\n",
        "  vectorizer_with_vocab = CountVectorizer(vocabulary = vocab)\n",
        "  vectors_with_vocab = vectorizer_with_vocab.fit_transform(train_data)\n",
        "  \n",
        "  print(\"Avg Unique Words from Vocab of \" + str(vocab) + \": \" + str(float(vectors_with_vocab.nnz) / vectors_with_vocab.shape[0]))\n",
        "  \n",
        "  bi_tri_vctzr = CountVectorizer(analyzer = 'char', ngram_range = (2,3))\n",
        "  bi_tri_vctrs = bi_tri_vctzr.fit_transform(train_data)\n",
        "  \n",
        "  print(\"Number of Bi- and Tri-gram Character Features: \" + str(bi_tri_vctrs.shape[1]))\n",
        "  \n",
        "  vctzr_df10 = CountVectorizer(min_df = 10)\n",
        "  vctrs_df10 = vctzr_df10.fit_transform(train_data)\n",
        "  \n",
        "  print(\"Number of Words in At Least 10 Documents: \" + str(vctrs_df10.shape[1]))\n",
        "  \n",
        "  dev_vectors = vectorizer.fit_transform(dev_data)\n",
        "  dev_features = vectorizer.get_feature_names()\n",
        "  \n",
        "  dev_only_features = set(dev_features) - set(features)\n",
        "  dev_only_fraction = float(len(dev_only_features)) / len(dev_features)\n",
        "  print(\"Fraction of Words in Dev Data Missing From Training Vocab: \" + str(dev_only_fraction))\n",
        "  \n",
        "\n",
        "P2()"
      ],
      "execution_count": 0,
      "outputs": []
    },
    {
      "cell_type": "markdown",
      "metadata": {
        "colab_type": "text",
        "id": "ydjkRh6LFsxp"
      },
      "source": [
        "### Part 3:\n",
        "\n",
        "Use the default CountVectorizer options and report the f1 score (use metrics.f1_score with average=\"weighted\") for a k nearest neighbors classifier; find the optimal value for k. Also fit a Multinomial Naive Bayes model and find the optimal value for alpha. Finally, fit a logistic regression model and find the optimal value for the regularization strength C using l2 regularization. A few questions:\n",
        "\n",
        "* Why doesn't nearest neighbors work well for this problem?\n",
        "* Any ideas why logistic regression doesn't work as well as Naive Bayes?\n",
        "* Logistic regression estimates a weight vector for each class, which you can access with the coef\\_ attribute. Output the sum of the squared weight values for each class for each setting of the C parameter. Briefly explain the relationship between the sum and the value of C."
      ]
    },
    {
      "cell_type": "code",
      "metadata": {
        "colab_type": "code",
        "id": "VvhpODdWFsxp",
        "colab": {}
      },
      "source": [
        "def P3():\n",
        "  train_vectorizer = CountVectorizer()\n",
        "  train_vectors = train_vectorizer.fit_transform(train_data)\n",
        "  train_features = train_vectorizer.get_feature_names()\n",
        "  \n",
        "  dev_vectorizer = CountVectorizer(vocabulary=train_features)\n",
        "  dev_vectors = dev_vectorizer.fit_transform(dev_data)\n",
        "  \n",
        "  search_knn = KNeighborsClassifier()\n",
        "  params_knn = { 'n_neighbors': [n for n in range(1, 100, 1)] }\n",
        "  gscv_knn = GridSearchCV(search_knn, params_knn, cv=5, scoring='f1_weighted')\n",
        "  gscv_knn.fit(train_vectors, train_labels)\n",
        "  print(\"Best k-Value for kNN via GridSearchCV: \" + str(gscv_knn.best_params_))\n",
        "  dev_pred_labels_knn = gscv_knn.predict(dev_vectors)\n",
        "  print(\"f1-score for kNN: \" + str(metrics.f1_score(dev_labels, dev_pred_labels_knn, average=\"weighted\")))\n",
        "  \n",
        "  search_mnb = MultinomialNB()\n",
        "  #in broad search 0.01 was best param, this is a finer grained search to see if we can do better.\n",
        "  params_mnb = {'alpha': [n / 1000.0 for n in range(1, 100, 1)]}\n",
        "  gscv_mnb = GridSearchCV(search_mnb, params_mnb, cv=5, scoring='f1_weighted')\n",
        "  gscv_mnb.fit(train_vectors, train_labels)\n",
        "  print(\"Best alpha-Value for MultinomialNB via GridSearchCV: \" + str(gscv_mnb.best_params_))\n",
        "  dev_pred_labels_mnb = gscv_mnb.predict(dev_vectors)\n",
        "  print(\"f1-score for MultinomialNB: \" + str(metrics.f1_score(dev_labels, dev_pred_labels_mnb, average=\"weighted\")))\n",
        "  \n",
        "  search_lr = LogisticRegression(solver='liblinear', multi_class='auto')\n",
        "  params_lr = {'C': [n / 100.0 for n in range(40, 60)]}\n",
        "  gscv_lr = GridSearchCV(search_lr, params_lr, cv=5, scoring='f1_weighted')\n",
        "  gscv_lr.fit(train_vectors, train_labels)\n",
        "  print(\"Best C-Value for LogisticRegression via GridSearchCV: \" + str(gscv_lr.best_params_))\n",
        "  dev_pred_labels_lr = gscv_lr.predict(dev_vectors)\n",
        "  print(\"f1-score for LogisticRegression: \" + str(metrics.f1_score(dev_labels, dev_pred_labels_lr, average=\"weighted\")))\n",
        "  \n",
        "  for c in [n / 100.0 for n in range(40,60,5)]:\n",
        "    lr = LogisticRegression(C=c, solver='liblinear', multi_class='auto')\n",
        "    lr.fit(train_vectors, train_labels)\n",
        "    print(\"Sum of squared weights for C = \" + str(c) + \":\")\n",
        "    for i in range(len(lr.coef_)):\n",
        "      vect = lr.coef_[i]\n",
        "      class_name = newsgroups_train.target_names[i]\n",
        "      sum_sq = sum(n*n for n in vect)\n",
        "      print(\"For \" + class_name + \": \" + str(sum_sq))\n",
        "      \n",
        "\n",
        "P3()"
      ],
      "execution_count": 0,
      "outputs": []
    },
    {
      "cell_type": "markdown",
      "metadata": {
        "colab_type": "text",
        "id": "jWtXwAlOFsxr"
      },
      "source": [
        "ANSWER:\n",
        "\n",
        "\n",
        "1.   Why doesn't nearest neighbors work well for this problem?\n",
        "\n",
        "   a.   The main reason nearest neighbors does not work well is because of the large volume and variation of common words used throughout the documents. This causes an given document to match other documents that share a similar corpus of common words rather than taking into account the less common words which likely have more relevance to the meaning of the document. This is especially true due to the high frequency of common words in a given document compared to 1 or 2 instances of words that may better align with other documents of the same category.\n",
        "\n",
        "2.   Any ideas why logistic regression doesn't work as well as Naive Bayes?\n",
        "\n",
        "   b.   There are a couple of reasons why I think Naive Bayes works better for this problem than Logistic Regression. Firstly, Logistic Regression tends to not perform as well with sparse data because it becomes hard to converge on the best parameter values. Related to this, Naive Bayes on the other hand treats each feature independently allowing words that only appear in a given class in the training data to have a much higher impact than in Logistic Regression where you are trying to fit all coefficients together as a single model.\n",
        "   \n",
        "3.   As we can see above the sum of squared coefficients for a given class increase as we increase the C parameter. This is because C is the inverse of the regularization strength, $\\lambda$. This means that as C increases, the regularization strength decreases which reduces the penalty of having large coefficients and therefore allows the sum of squared weights to be higher."
      ]
    },
    {
      "cell_type": "markdown",
      "metadata": {
        "colab_type": "text",
        "id": "dGEjsm_uFsxr"
      },
      "source": [
        "### Part 4:\n",
        "\n",
        "Train a logistic regression model. Find the 5 features with the largest weights for each label -- 20 features in total. Create a table with 20 rows and 4 columns that shows the weight for each of these features for each of the labels. Create the table again with bigram features. Any surprising features in this table?"
      ]
    },
    {
      "cell_type": "code",
      "metadata": {
        "colab_type": "code",
        "id": "WN51Nv4fFsxs",
        "colab": {}
      },
      "source": [
        "def get_feature_table(vectorizer, linear_model, feats_per_class):\n",
        "  train_vectors = vectorizer.fit_transform(train_data)\n",
        "  train_features = vectorizer.get_feature_names()\n",
        "  linear_model.fit(train_vectors, train_labels)\n",
        "  \n",
        "  best_features = []\n",
        "  for i in range(len(linear_model.coef_)):\n",
        "    vect = linear_model.coef_[i]\n",
        "    class_name = newsgroups_train.target_names[i]\n",
        "    best_features_for_class = heapq.nlargest(feats_per_class, enumerate(vect), key=lambda x: x[1])\n",
        "    print(\"Best features for \" + class_name + \": \" + str([train_features[feat[0]] for feat in best_features_for_class]))\n",
        "    best_features.extend(feat[0] for feat in best_features_for_class)\n",
        "    \n",
        "  feature_table_data = []\n",
        "  for feat in best_features:\n",
        "    feat_dict = {'feature_gram': train_features[feat]}\n",
        "    for i in range(len(linear_model.coef_)):\n",
        "      vect = linear_model.coef_[i]\n",
        "      class_name = newsgroups_train.target_names[i]\n",
        "      weight = vect[feat]\n",
        "      feat_dict[class_name + \"_weight\"] = weight\n",
        "    feature_table_data.append(feat_dict)\n",
        "    \n",
        "  return pd.DataFrame(feature_table_data, columns=[class_name + \"_weight\" for class_name in newsgroups_train.target_names], index=[feat['feature_gram'] for feat in feature_table_data])\n",
        "  \n",
        "\n",
        "def P4():\n",
        "  feats_per_class = 5\n",
        "  lr_c = 0.53\n",
        "  \n",
        "  lr = LogisticRegression(C=lr_c, solver='liblinear', multi_class='auto', max_iter = 1000)# failed to converge on bi-grams with max_iter=100\n",
        "  \n",
        "  vectorizer = CountVectorizer()\n",
        "  feature_table = get_feature_table(vectorizer, lr, feats_per_class)\n",
        "  display(HTML(feature_table.to_html()))\n",
        "  \n",
        "  bi_vectorizer = CountVectorizer(analyzer = 'char', ngram_range = (2,2))\n",
        "  bi_feature_table = get_feature_table(bi_vectorizer, lr, feats_per_class)\n",
        "  display(HTML(bi_feature_table.to_html()))\n",
        "\n",
        "P4()"
      ],
      "execution_count": 0,
      "outputs": []
    },
    {
      "cell_type": "markdown",
      "metadata": {
        "colab_type": "text",
        "id": "cY67F-tXFsxt"
      },
      "source": [
        "ANSWER: \n",
        "\n",
        "For the ngram word features the most surprising results for me are as follows:\n",
        "\n",
        "1.   fbi (talk.religion.misc) - Seems strange that talk of the FBI would be an indicator of miscellaneous religious messages.\n",
        "\n",
        "2.   deletion, religion, bobby (alt.atheism) - While religion does make some sense with atheism, it is somewhat surprising that the difference in coefficients between alt.atheism and talk.religion.misc is so stark. Deletion and bobby seem like unrelated additions and bobby in particular makes me worried there is some overfitting going on (possibly due to the name of a common author on the subject in the training corpus).\n",
        "\n",
        "For the bi-gram features the comp.graphics features seem to be the only ones that make logical sense due to the inclusion of 3d and some common file name extensions (cs, py). It is surprising that punctation seems to be a strong indicator in a number of cases (i.e. '; ' and 'n:' for religion, '\\nn' for space, and 's:' for atheism)."
      ]
    },
    {
      "cell_type": "markdown",
      "metadata": {
        "colab_type": "text",
        "id": "rVWhSJHHFsxu"
      },
      "source": [
        "### Part 5:\n",
        "\n",
        "Try to improve the logistic regression classifier by passing a custom preprocessor to CountVectorizer. The preprocessing function runs on the raw text, before it is split into words by the tokenizer. Your preprocessor should try to normalize the input in various ways to improve generalization. For example, try lowercasing everything, replacing sequences of numbers with a single token, removing various other non-letter characters, and shortening long words. If you're not already familiar with regular expressions for manipulating strings, see https://docs.python.org/2/library/re.html, and re.sub() in particular. With your new preprocessor, how much did you reduce the size of the dictionary?\n",
        "\n",
        "For reference, I was able to improve dev F1 by 2 points."
      ]
    },
    {
      "cell_type": "code",
      "metadata": {
        "colab_type": "code",
        "id": "l7gS3cGpFsxv",
        "colab": {}
      },
      "source": [
        "def empty_preprocessor(s):\n",
        "  return s\n",
        "\n",
        "def better_preprocessor(s):\n",
        "  s = unescape(s)\n",
        "  if(not s.isupper()):\n",
        "    s = s.lower()\n",
        "  #elif(len(s) > 1):\n",
        "  #  s = s.lower() + ' THISISALLCAPS'\n",
        "  #s = re.sub('(relig)\\w+', r'\\1', s)\n",
        "  s = re.sub('(athe)\\w+', r'\\1', s)#s = re.sub('^.+(athe).+$', r'\\1', s)\n",
        "  s = re.sub('(\\w+)y', r'\\1', s)\n",
        "  s = re.sub('(\\w+)ies', r'\\1', s)\n",
        "  s = re.sub('(\\w+)es', r'\\1', s)\n",
        "  s = re.sub('(\\w+)s', r'\\1', s)\n",
        "  s = re.sub('(\\w+)ed', r'\\1', s)\n",
        "  #s = re.sub('-', r' ', s)\n",
        "  #s = re.sub('^(\\w+)\\'d$', r'\\1', s)\n",
        "  #s = re.sub('^(\\w+)\\'s$', r'\\1', s)\n",
        "  #s = re.sub('^(\\w+)\\'ll$', r'\\1', s)\n",
        "  s = re.sub('\\d+', '_A_NUMBER_', s)\n",
        "  #s = re.sub('^\\d{2}$', '##', s)\n",
        "  #s = re.sub('^\\d{3}$', '###', s)\n",
        "  #s = re.sub('^\\d+$', '####', s)\n",
        "  return s\n",
        "\n",
        "def get_f1_and_vocab(preprocessor, linear_model):\n",
        "  train_vectorizer = CountVectorizer(preprocessor=preprocessor)\n",
        "  train_vectors = train_vectorizer.fit_transform(train_data)\n",
        "  train_features = train_vectorizer.get_feature_names()\n",
        "  dev_vectorizer = CountVectorizer(preprocessor=preprocessor, vocabulary=train_features)\n",
        "  dev_vectors = dev_vectorizer.fit_transform(dev_data)\n",
        "  linear_model.fit(train_vectors, train_labels)\n",
        "  dev_pred_labels = linear_model.predict(dev_vectors)\n",
        "  return metrics.f1_score(dev_labels, dev_pred_labels, average=\"weighted\"), train_features\n",
        "\n",
        "def P5():\n",
        "  lr_c = 0.53\n",
        "  lr = LogisticRegression(C=lr_c, solver='liblinear', multi_class='auto')\n",
        "  \n",
        "  f1_empty, vocab_empty = get_f1_and_vocab(empty_preprocessor, lr)\n",
        "  print(\"f1-score with empty preprocessor: \" + str(f1_empty))\n",
        "  print(\"Vocab size with empty preprocessor: \" + str(len(vocab_empty)))\n",
        "  \n",
        "  f1_better, vocab_better = get_f1_and_vocab(better_preprocessor, lr)\n",
        "  print(\"f1-score with better preprocessor: \" + str(f1_better))\n",
        "  print(\"Vocab size with better preprocessor: \" + str(len(vocab_better)))\n",
        "  \n",
        "  print(\"Improvement: \" + str(f1_better - f1_empty))\n",
        "  print(\"Vocab size reduction: \" + str(len(vocab_empty) - len(vocab_better)))\n",
        "  \n",
        "P5()"
      ],
      "execution_count": 0,
      "outputs": []
    },
    {
      "cell_type": "markdown",
      "metadata": {
        "colab_type": "text",
        "id": "Uy-WITbNFsxw"
      },
      "source": [
        "### Part 6:\n",
        "\n",
        "The idea of regularization is to avoid learning very large weights (which are likely to fit the training data, but not generalize well) by adding a penalty to the total size of the learned weights. That is, logistic regression seeks the set of weights that minimizes errors in the training data AND has a small size. The default regularization, L2, computes this size as the sum of the squared weights (see P3, above). L1 regularization computes this size as the sum of the absolute values of the weights. The result is that whereas L2 regularization makes all the weights relatively small, L1 regularization drives lots of the weights to 0, effectively removing unimportant features.\n",
        "\n",
        "Train a logistic regression model using a \"l1\" penalty. Output the number of learned weights that are not equal to zero. How does this compare to the number of non-zero weights you get with \"l2\"? Now, reduce the size of the vocabulary by keeping only those features that have at least one non-zero weight and retrain a model using \"l2\".\n",
        "\n",
        "Make a plot showing accuracy of the re-trained model vs. the vocabulary size you get when pruning unused features by adjusting the C parameter.\n",
        "\n",
        "Note: The gradient descent code that trains the logistic regression model sometimes has trouble converging with extreme settings of the C parameter. Relax the convergence criteria by setting tol=.015 (the default is .0001)."
      ]
    },
    {
      "cell_type": "code",
      "metadata": {
        "colab_type": "code",
        "id": "l6ho31SrFsxx",
        "colab": {}
      },
      "source": [
        "def cnt_nonzero_weights(linear_model):\n",
        "  cnt = 0\n",
        "  for vect in linear_model.coef_:\n",
        "    for n in vect:\n",
        "      if n != 0.0:\n",
        "        cnt += 1\n",
        "  return cnt\n",
        "\n",
        "def generate_filtered_model(train_vectorizer, c):\n",
        "  train_vectors = train_vectorizer.fit_transform(train_data)\n",
        "  train_features = train_vectorizer.get_feature_names()\n",
        "  lr_l1 = LogisticRegression(C=c, penalty='l1', solver='liblinear', multi_class='auto', tol=0.015)\n",
        "  lr_l1.fit(train_vectors, train_labels)\n",
        "  feature_index_set = set()\n",
        "  for vect in lr_l1.coef_:\n",
        "    for i in range(len(vect)):\n",
        "      if vect[i] != 0:\n",
        "        feature_index_set.add(i)\n",
        "        \n",
        "  new_vocab = [train_features[i] for i in feature_index_set]\n",
        "  new_vectorizer = CountVectorizer(vocabulary=new_vocab)\n",
        "  new_vectors = new_vectorizer.fit_transform(train_data)\n",
        "  new_features = new_vectorizer.get_feature_names()\n",
        "  lr_l2 = LogisticRegression(C=0.53, solver='liblinear', multi_class='auto')\n",
        "  lr_l2.fit(new_vectors, train_labels)\n",
        "  return new_vectorizer, lr_l2\n",
        "  \n",
        "\n",
        "def P6():\n",
        "  np.random.seed(0)\n",
        "  \n",
        "  train_vectorizer = CountVectorizer()\n",
        "  train_vectors = train_vectorizer.fit_transform(train_data)\n",
        "  train_features = train_vectorizer.get_feature_names()\n",
        "  \n",
        "  lr_c = 0.53\n",
        "  lr_l2 = LogisticRegression(C=lr_c, solver='liblinear', multi_class='auto')\n",
        "  lr_l2.fit(train_vectors, train_labels)\n",
        "  cnt_nz_l2 = cnt_nonzero_weights(lr_l2)\n",
        "  print(\"Number non-zero coefficients with L2: \" + str(cnt_nz_l2))\n",
        "  \n",
        "  lr_l1 = LogisticRegression(C=lr_c, penalty='l1', solver='liblinear', multi_class='auto', tol=0.015)\n",
        "  lr_l1.fit(train_vectors, train_labels)\n",
        "  cnt_nz_l1 = cnt_nonzero_weights(lr_l1)\n",
        "  print(\"Number non-zero coefficients with L1: \" + str(cnt_nz_l1))\n",
        "  \n",
        "  x_vocabsize = []\n",
        "  y_acc = []\n",
        "  for c in [0.01, 0.02, 0.03, 0.04, 0.05, 0.06, 0.07, 0.08, 0.09, 0.1, 0.2, 0.3, 0.4, 0.5, 0.6, 0.7, 0.8, 0.9, 1, 2, 3, 4, 5, 6, 7, 8, 9, 10, 20, 30, 40, 50, 60, 70, 80, 90, 100, 110, 120, 130, 140, 150, 160, 170, 180, 190, 200, 300, 400, 500, 600, 700, 800, 900, 1000]:\n",
        "    vectorizer, model = generate_filtered_model(train_vectorizer, c)\n",
        "    dev_vectors = vectorizer.fit_transform(dev_data)\n",
        "    dev_pred_labels = model.predict(dev_vectors)\n",
        "    x_vocabsize.append(len(model.coef_[0]))\n",
        "    y_acc.append(metrics.accuracy_score(dev_labels, dev_pred_labels))\n",
        "    \n",
        "  #print(x_vocabsize)\n",
        "  #print(y_acc)\n",
        "  fig_size = 10\n",
        "  fig = plt.figure(figsize=(fig_size, fig_size))\n",
        "  ax1 = fig.add_subplot(1, 1, 1)\n",
        "  ax1.scatter(x_vocabsize, y_acc)\n",
        "  \n",
        "  ax1.set_xlabel('vocab_size')\n",
        "  ax1.set_ylabel('accuracy_score')\n",
        "  ax1.set_title('vocab size vs accuracy score (for increasing C-values)')\n",
        "  \n",
        "  plt.show()\n",
        "    \n",
        "    \n",
        "P6()"
      ],
      "execution_count": 0,
      "outputs": []
    },
    {
      "cell_type": "markdown",
      "metadata": {
        "colab_type": "text",
        "id": "QmrHf8AMFsxz"
      },
      "source": [
        "### Part 7:\n",
        "\n",
        "Use the TfidfVectorizer -- how is this different from the CountVectorizer? Train a logistic regression model with C=100.\n",
        "\n",
        "Make predictions on the dev data and show the top 3 documents where the ratio R is largest, where R is:\n",
        "\n",
        "maximum predicted probability / predicted probability of the correct label\n",
        "\n",
        "What kinds of mistakes is the model making? Suggest a way to address one particular issue that you see."
      ]
    },
    {
      "cell_type": "code",
      "metadata": {
        "colab_type": "code",
        "id": "8vwU_9t2Fsx0",
        "colab": {}
      },
      "source": [
        "def P7():\n",
        "  c = 100\n",
        "  n_docs = 3\n",
        "  \n",
        "  train_vectorizer = TfidfVectorizer()\n",
        "  train_vectors = train_vectorizer.fit_transform(train_data)\n",
        "  train_features = train_vectorizer.get_feature_names()\n",
        "  \n",
        "  lr = LogisticRegression(C=c, solver='liblinear', multi_class='auto')\n",
        "  lr.fit(train_vectors, train_labels)\n",
        "  dev_vectorizer = TfidfVectorizer(vocabulary=train_features)\n",
        "  dev_vectors = dev_vectorizer.fit_transform(dev_data)\n",
        "  dev_pred_proba = lr.predict_proba(dev_vectors)\n",
        "  \n",
        "  large_R = heapq.nlargest(n_docs, enumerate(dev_pred_proba)\n",
        "                 , key=lambda x: max(x[1])/(x[1][dev_labels[x[0]]]))\n",
        "  \n",
        "  for doc in large_R:\n",
        "    print(\"------------------------------------------------------------------\")\n",
        "    print(\"Predicted: \" + newsgroups_train.target_names[np.argmax(doc[1])]\n",
        "          + \", Actual: \" + newsgroups_train.target_names[dev_labels[doc[0]]])\n",
        "    print(\"------------------------------------------------------------------\")\n",
        "    print(dev_data[doc[0]] + \"\\n\\n\")\n",
        "    \n",
        "  \n",
        "  print(\"\\n\\n Error Analysis:\\n\")\n",
        "  ftp_ix = train_features.index('ftp')\n",
        "  graph_ix = newsgroups_train.target_names.index('comp.graphics')\n",
        "  ftp_graph_coef = lr.coef_[graph_ix][ftp_ix]\n",
        "  print(\"coefficient value for ftp in comp.graphics: \" + str(ftp_graph_coef))\n",
        "  print(\"This coefficient is in the top {:.2f}% of coefficients for comp.graphics.\".format(percentileofscore(lr.coef_[graph_ix], ftp_graph_coef)))\n",
        "  \n",
        "  print(\"\\n\\n\")\n",
        "  print(\"Word and coefficient for words with the highest coefficients for the predicted class of top R-value documents\")\n",
        "  for doc in large_R:\n",
        "    vector = dev_vectors[doc[0]].toarray()[0]\n",
        "    words = []\n",
        "    for word in enumerate(vector):\n",
        "      if word[1] > 0:\n",
        "        words.append(word[0])\n",
        "    \n",
        "    word_coefs = []\n",
        "    for word in words:\n",
        "      pred_coef = lr.coef_[np.argmax(doc[1])]\n",
        "      word_coefs.append((train_features[word], pred_coef[word]))\n",
        "      \n",
        "    n_strongest = 10\n",
        "    print(heapq.nlargest(n_strongest, word_coefs, key=lambda x: x[1]))\n",
        "  \n",
        "P7()"
      ],
      "execution_count": 0,
      "outputs": []
    },
    {
      "cell_type": "markdown",
      "metadata": {
        "colab_type": "text",
        "id": "bZmIPwExFsx1"
      },
      "source": [
        "ANSWER: The output above shows which words may be contributing the most to a given miscategorization. The first and third document shown have a few words in common that may be why they are both miscategorized as comp.graphics. Namely, 'version' and 'ftp'. In order to fix this we could play around with stop_words in an attempt to manually filter out words that are causing issues."
      ]
    },
    {
      "cell_type": "markdown",
      "metadata": {
        "colab_type": "text",
        "id": "VmsDxtzoFsx1"
      },
      "source": [
        "### Part 8 EXTRA CREDIT:\n",
        "\n",
        "Try implementing one of your ideas based on your error analysis. Use logistic regression as your underlying model."
      ]
    },
    {
      "cell_type": "code",
      "metadata": {
        "colab_type": "code",
        "id": "ZMaqe8c5Fsx2",
        "colab": {}
      },
      "source": [
        "def P8():\n",
        "  c = 100\n",
        "  n_docs = 3\n",
        "  \n",
        "  train_vectorizer = TfidfVectorizer(stop_words=['ftp', 'version'])\n",
        "  train_vectors = train_vectorizer.fit_transform(train_data)\n",
        "  train_features = train_vectorizer.get_feature_names()\n",
        "  \n",
        "  lr = LogisticRegression(C=c, solver='liblinear', multi_class='auto')\n",
        "  lr.fit(train_vectors, train_labels)\n",
        "  dev_vectorizer = TfidfVectorizer(vocabulary=train_features)\n",
        "  dev_vectors = dev_vectorizer.fit_transform(dev_data)\n",
        "  dev_pred_proba = lr.predict_proba(dev_vectors)\n",
        "  \n",
        "  large_R = heapq.nlargest(n_docs, enumerate(dev_pred_proba)\n",
        "                 , key=lambda x: max(x[1])/(x[1][dev_labels[x[0]]]))\n",
        "  \n",
        "  for doc in large_R:\n",
        "    print(\"------------------------------------------------------------------\")\n",
        "    print(\"Predicted: \" + newsgroups_train.target_names[np.argmax(doc[1])]\n",
        "          + \", Actual: \" + newsgroups_train.target_names[dev_labels[doc[0]]])\n",
        "    print(\"------------------------------------------------------------------\")\n",
        "    print(dev_data[doc[0]] + \"\\n\\n\")\n",
        "    \n",
        "  print(\"\\n\\n\")\n",
        "  \n",
        "  for doc in large_R:\n",
        "    vector = dev_vectors[doc[0]].toarray()[0]\n",
        "    words = []\n",
        "    for word in enumerate(vector):\n",
        "      if word[1] > 0:\n",
        "        words.append(word[0])\n",
        "    \n",
        "    word_coefs = []\n",
        "    for word in words:\n",
        "      pred_coef = lr.coef_[np.argmax(doc[1])]\n",
        "      word_coefs.append((train_features[word], pred_coef[word]))\n",
        "      \n",
        "    n_strongest = 10\n",
        "    print(heapq.nlargest(n_strongest, word_coefs, key=lambda x: x[1]))\n",
        "  \n",
        "P8()"
      ],
      "execution_count": 0,
      "outputs": []
    },
    {
      "cell_type": "code",
      "metadata": {
        "id": "HqLa0yo_RRQJ",
        "colab_type": "code",
        "colab": {}
      },
      "source": [
        ""
      ],
      "execution_count": 0,
      "outputs": []
    }
  ]
}